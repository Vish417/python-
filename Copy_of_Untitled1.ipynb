{
  "nbformat": 4,
  "nbformat_minor": 0,
  "metadata": {
    "colab": {
      "name": "Copy of Untitled1.ipynb",
      "provenance": [],
      "collapsed_sections": [],
      "authorship_tag": "ABX9TyN++CJv2CY0W7gm+5AJzs1C"
    },
    "kernelspec": {
      "name": "python3",
      "display_name": "Python 3"
    }
  },
  "cells": [
    {
      "cell_type": "code",
      "metadata": {
        "id": "D4l-3Nqu-xc9",
        "colab_type": "code",
        "colab": {}
      },
      "source": [
        ""
      ],
      "execution_count": null,
      "outputs": []
    },
    {
      "cell_type": "markdown",
      "metadata": {
        "id": "D_aaZIsm_0tU",
        "colab_type": "text"
      },
      "source": [
        "Stock Market Prediction using Tenserflow "
      ]
    },
    {
      "cell_type": "markdown",
      "metadata": {
        "id": "g4-lurAt-yGR",
        "colab_type": "text"
      },
      "source": [
        "# **Long short-term memory (LSTM) is an artificial recurrent neural network (RNN) architecture used in the field of deep learning. Unlike standard feed forward neural networks, LSTM has feedback connections. It can not only process single data points (such as images), but also entire sequences of data (such as speech or video). "
      ]
    },
    {
      "cell_type": "markdown",
      "metadata": {
        "id": "Q1XKDUmn_Hf3",
        "colab_type": "text"
      },
      "source": [
        "# Collection of data using Tiingo API"
      ]
    },
    {
      "cell_type": "code",
      "metadata": {
        "id": "fegDA5C__P5E",
        "colab_type": "code",
        "colab": {
          "base_uri": "https://localhost:8080/",
          "height": 71
        },
        "outputId": "290ffe12-9e29-4c4b-c49f-7883af392c62"
      },
      "source": [
        "import pandas_datareader as pdr\n",
        "key=\"a28ba693f65c36f6a5fd04956664bf3a57260a81\"\n",
        "df = pdr.get_data_tiingo('GOOGL', api_key=key)\n",
        "df.to_csv('GOOGL.csv')"
      ],
      "execution_count": null,
      "outputs": [
        {
          "output_type": "stream",
          "text": [
            "/usr/local/lib/python3.6/dist-packages/pandas_datareader/compat/__init__.py:7: FutureWarning: pandas.util.testing is deprecated. Use the functions in the public API at pandas.testing instead.\n",
            "  from pandas.util.testing import assert_frame_equal\n"
          ],
          "name": "stderr"
        }
      ]
    },
    {
      "cell_type": "code",
      "metadata": {
        "id": "EBZAgPjr_hpU",
        "colab_type": "code",
        "colab": {
          "base_uri": "https://localhost:8080/",
          "height": 204
        },
        "outputId": "fc634048-836a-415f-9fbe-a26e86d322cd"
      },
      "source": [
        "import pandas as pd\n",
        "df=pd.read_csv('GOOGL.csv')\n",
        "df.head()"
      ],
      "execution_count": null,
      "outputs": [
        {
          "output_type": "execute_result",
          "data": {
            "text/html": [
              "<div>\n",
              "<style scoped>\n",
              "    .dataframe tbody tr th:only-of-type {\n",
              "        vertical-align: middle;\n",
              "    }\n",
              "\n",
              "    .dataframe tbody tr th {\n",
              "        vertical-align: top;\n",
              "    }\n",
              "\n",
              "    .dataframe thead th {\n",
              "        text-align: right;\n",
              "    }\n",
              "</style>\n",
              "<table border=\"1\" class=\"dataframe\">\n",
              "  <thead>\n",
              "    <tr style=\"text-align: right;\">\n",
              "      <th></th>\n",
              "      <th>symbol</th>\n",
              "      <th>date</th>\n",
              "      <th>close</th>\n",
              "      <th>high</th>\n",
              "      <th>low</th>\n",
              "      <th>open</th>\n",
              "      <th>volume</th>\n",
              "      <th>adjClose</th>\n",
              "      <th>adjHigh</th>\n",
              "      <th>adjLow</th>\n",
              "      <th>adjOpen</th>\n",
              "      <th>adjVolume</th>\n",
              "      <th>divCash</th>\n",
              "      <th>splitFactor</th>\n",
              "    </tr>\n",
              "  </thead>\n",
              "  <tbody>\n",
              "    <tr>\n",
              "      <th>0</th>\n",
              "      <td>GOOGL</td>\n",
              "      <td>2015-08-03 00:00:00+00:00</td>\n",
              "      <td>664.72</td>\n",
              "      <td>666.670</td>\n",
              "      <td>657.6600</td>\n",
              "      <td>657.66</td>\n",
              "      <td>1567407</td>\n",
              "      <td>664.72</td>\n",
              "      <td>666.670</td>\n",
              "      <td>657.6600</td>\n",
              "      <td>657.66</td>\n",
              "      <td>1567407</td>\n",
              "      <td>0.0</td>\n",
              "      <td>1.0</td>\n",
              "    </tr>\n",
              "    <tr>\n",
              "      <th>1</th>\n",
              "      <td>GOOGL</td>\n",
              "      <td>2015-08-04 00:00:00+00:00</td>\n",
              "      <td>661.28</td>\n",
              "      <td>668.000</td>\n",
              "      <td>660.5100</td>\n",
              "      <td>664.34</td>\n",
              "      <td>1309410</td>\n",
              "      <td>661.28</td>\n",
              "      <td>668.000</td>\n",
              "      <td>660.5100</td>\n",
              "      <td>664.34</td>\n",
              "      <td>1309410</td>\n",
              "      <td>0.0</td>\n",
              "      <td>1.0</td>\n",
              "    </tr>\n",
              "    <tr>\n",
              "      <th>2</th>\n",
              "      <td>GOOGL</td>\n",
              "      <td>2015-08-05 00:00:00+00:00</td>\n",
              "      <td>673.29</td>\n",
              "      <td>679.910</td>\n",
              "      <td>665.5827</td>\n",
              "      <td>665.75</td>\n",
              "      <td>1812589</td>\n",
              "      <td>673.29</td>\n",
              "      <td>679.910</td>\n",
              "      <td>665.5827</td>\n",
              "      <td>665.75</td>\n",
              "      <td>1812589</td>\n",
              "      <td>0.0</td>\n",
              "      <td>1.0</td>\n",
              "    </tr>\n",
              "    <tr>\n",
              "      <th>3</th>\n",
              "      <td>GOOGL</td>\n",
              "      <td>2015-08-06 00:00:00+00:00</td>\n",
              "      <td>670.15</td>\n",
              "      <td>674.750</td>\n",
              "      <td>660.7300</td>\n",
              "      <td>673.99</td>\n",
              "      <td>2032984</td>\n",
              "      <td>670.15</td>\n",
              "      <td>674.750</td>\n",
              "      <td>660.7300</td>\n",
              "      <td>673.99</td>\n",
              "      <td>2032984</td>\n",
              "      <td>0.0</td>\n",
              "      <td>1.0</td>\n",
              "    </tr>\n",
              "    <tr>\n",
              "      <th>4</th>\n",
              "      <td>GOOGL</td>\n",
              "      <td>2015-08-07 00:00:00+00:00</td>\n",
              "      <td>664.39</td>\n",
              "      <td>668.795</td>\n",
              "      <td>658.8700</td>\n",
              "      <td>667.78</td>\n",
              "      <td>1377152</td>\n",
              "      <td>664.39</td>\n",
              "      <td>668.795</td>\n",
              "      <td>658.8700</td>\n",
              "      <td>667.78</td>\n",
              "      <td>1377152</td>\n",
              "      <td>0.0</td>\n",
              "      <td>1.0</td>\n",
              "    </tr>\n",
              "  </tbody>\n",
              "</table>\n",
              "</div>"
            ],
            "text/plain": [
              "  symbol                       date   close  ...  adjVolume  divCash  splitFactor\n",
              "0  GOOGL  2015-08-03 00:00:00+00:00  664.72  ...    1567407      0.0          1.0\n",
              "1  GOOGL  2015-08-04 00:00:00+00:00  661.28  ...    1309410      0.0          1.0\n",
              "2  GOOGL  2015-08-05 00:00:00+00:00  673.29  ...    1812589      0.0          1.0\n",
              "3  GOOGL  2015-08-06 00:00:00+00:00  670.15  ...    2032984      0.0          1.0\n",
              "4  GOOGL  2015-08-07 00:00:00+00:00  664.39  ...    1377152      0.0          1.0\n",
              "\n",
              "[5 rows x 14 columns]"
            ]
          },
          "metadata": {
            "tags": []
          },
          "execution_count": 2
        }
      ]
    },
    {
      "cell_type": "markdown",
      "metadata": {
        "id": "NX1ZFWXiBN4S",
        "colab_type": "text"
      },
      "source": [
        "## Data Preprocessing"
      ]
    },
    {
      "cell_type": "code",
      "metadata": {
        "id": "BAZ5tv-QBXiD",
        "colab_type": "code",
        "colab": {
          "base_uri": "https://localhost:8080/",
          "height": 221
        },
        "outputId": "d61e3d3a-8c15-457c-dc0e-82e24179da73"
      },
      "source": [
        "df1=df.reset_index()['close']\n",
        "df1"
      ],
      "execution_count": null,
      "outputs": [
        {
          "output_type": "execute_result",
          "data": {
            "text/plain": [
              "0        664.72\n",
              "1        661.28\n",
              "2        673.29\n",
              "3        670.15\n",
              "4        664.39\n",
              "         ...   \n",
              "1254    1529.43\n",
              "1255    1503.65\n",
              "1256    1523.51\n",
              "1257    1538.37\n",
              "1258    1487.95\n",
              "Name: close, Length: 1259, dtype: float64"
            ]
          },
          "metadata": {
            "tags": []
          },
          "execution_count": 4
        }
      ]
    },
    {
      "cell_type": "markdown",
      "metadata": {
        "id": "T5GqXTnBBkLE",
        "colab_type": "text"
      },
      "source": [
        "### MinMaxScaler. Transform features by scaling each feature to a given range. This estimator scales and translates each feature individually such that it is in the given range on the training set, e.g. between zero and one. ... This transformation is often used as an alternative to zero mean, unit variance scaling\n"
      ]
    },
    {
      "cell_type": "code",
      "metadata": {
        "id": "qRZ__N-eB5dV",
        "colab_type": "code",
        "colab": {
          "base_uri": "https://localhost:8080/",
          "height": 136
        },
        "outputId": "c4e46810-5c81-4c41-8a33-ca90614d19e3"
      },
      "source": [
        "import numpy as np\n",
        "from sklearn.preprocessing import MinMaxScaler\n",
        "scaler=MinMaxScaler(feature_range=(0,1))\n",
        "df1=scaler.fit_transform(np.array(df1).reshape(-1,1))\n",
        "print(df1)"
      ],
      "execution_count": null,
      "outputs": [
        {
          "output_type": "stream",
          "text": [
            "[[0.05486255]\n",
            " [0.05125055]\n",
            " [0.06386106]\n",
            " ...\n",
            " [0.95659296]\n",
            " [0.97219597]\n",
            " [0.91925492]]\n"
          ],
          "name": "stdout"
        }
      ]
    },
    {
      "cell_type": "markdown",
      "metadata": {
        "id": "32IbIWtfCCpN",
        "colab_type": "text"
      },
      "source": [
        "### Splliting of test and training Variables"
      ]
    },
    {
      "cell_type": "code",
      "metadata": {
        "id": "uqS5ajavCKVs",
        "colab_type": "code",
        "colab": {
          "base_uri": "https://localhost:8080/",
          "height": 34
        },
        "outputId": "70c04253-c476-4cbc-c721-7cc69a137aa7"
      },
      "source": [
        "training_size=int(len(df1)*0.65)\n",
        "test_size=len(df1)-training_size\n",
        "train_data,test_data=df1[0:training_size,:],df1[training_size:len(df1),:1]\n",
        "training_size,test_size"
      ],
      "execution_count": null,
      "outputs": [
        {
          "output_type": "execute_result",
          "data": {
            "text/plain": [
              "(818, 441)"
            ]
          },
          "metadata": {
            "tags": []
          },
          "execution_count": 6
        }
      ]
    },
    {
      "cell_type": "markdown",
      "metadata": {
        "id": "ApEq_P6mCTpN",
        "colab_type": "text"
      },
      "source": [
        "### Converting Array of Values into Datatset Matrix i.e converting into numpy arrays and reshaping of variables"
      ]
    },
    {
      "cell_type": "code",
      "metadata": {
        "id": "GDhk0L_oCrqV",
        "colab_type": "code",
        "colab": {}
      },
      "source": [
        "import numpy\n",
        "# convert an array of values into a dataset matrix\n",
        "def create_dataset(dataset, time_step=1):\n",
        "\tdataX, dataY = [], []\n",
        "\tfor i in range(len(dataset)-time_step-1):\n",
        "\t\ta = dataset[i:(i+time_step), 0]   ###i=0, 0,1,2,3-----99   100 \n",
        "\t\tdataX.append(a)\n",
        "\t\tdataY.append(dataset[i + time_step, 0])\n",
        "\treturn numpy.array(dataX), numpy.array(dataY)\n",
        "time_step = 100\n",
        "X_train, y_train = create_dataset(train_data, time_step)\n",
        "X_test, ytest = create_dataset(test_data, time_step)"
      ],
      "execution_count": null,
      "outputs": []
    },
    {
      "cell_type": "markdown",
      "metadata": {
        "id": "2n4dFQigC1kE",
        "colab_type": "text"
      },
      "source": [
        "### Reshapping into 3-D Model For LSTM "
      ]
    },
    {
      "cell_type": "code",
      "metadata": {
        "id": "_YB4IwMSDGiW",
        "colab_type": "code",
        "colab": {}
      },
      "source": [
        "X_train =X_train.reshape(X_train.shape[0],X_train.shape[1] , 1)\n",
        "X_test = X_test.reshape(X_test.shape[0],X_test.shape[1] , 1)"
      ],
      "execution_count": null,
      "outputs": []
    },
    {
      "cell_type": "markdown",
      "metadata": {
        "id": "Vt5hH2hRDMh2",
        "colab_type": "text"
      },
      "source": [
        "### Creating a LSTM MODEL"
      ]
    },
    {
      "cell_type": "code",
      "metadata": {
        "id": "bk7V2RoLDTKd",
        "colab_type": "code",
        "colab": {
          "base_uri": "https://localhost:8080/",
          "height": 289
        },
        "outputId": "19c3492e-7306-48db-ba9e-a03b34959627"
      },
      "source": [
        "from tensorflow.keras.models import Sequential\n",
        "from tensorflow.keras.layers import Dense\n",
        "from tensorflow.keras.layers import LSTM\n",
        "model=Sequential()\n",
        "model.add(LSTM(50,return_sequences=True,input_shape=(100,1)))\n",
        "model.add(LSTM(50,return_sequences=True))\n",
        "model.add(LSTM(50))\n",
        "model.add(Dense(1))\n",
        "model.compile(loss='mean_squared_error',optimizer='adam')\n",
        "model.summary()"
      ],
      "execution_count": null,
      "outputs": [
        {
          "output_type": "stream",
          "text": [
            "Model: \"sequential\"\n",
            "_________________________________________________________________\n",
            "Layer (type)                 Output Shape              Param #   \n",
            "=================================================================\n",
            "lstm (LSTM)                  (None, 100, 50)           10400     \n",
            "_________________________________________________________________\n",
            "lstm_1 (LSTM)                (None, 100, 50)           20200     \n",
            "_________________________________________________________________\n",
            "lstm_2 (LSTM)                (None, 50)                20200     \n",
            "_________________________________________________________________\n",
            "dense (Dense)                (None, 1)                 51        \n",
            "=================================================================\n",
            "Total params: 50,851\n",
            "Trainable params: 50,851\n",
            "Non-trainable params: 0\n",
            "_________________________________________________________________\n"
          ],
          "name": "stdout"
        }
      ]
    },
    {
      "cell_type": "markdown",
      "metadata": {
        "id": "NNwLnlt9DgQs",
        "colab_type": "text"
      },
      "source": [
        "### Training the Model"
      ]
    },
    {
      "cell_type": "code",
      "metadata": {
        "id": "zQHUoBuvDkV3",
        "colab_type": "code",
        "colab": {
          "base_uri": "https://localhost:8080/",
          "height": 1000
        },
        "outputId": "2fc3e828-95ab-44b2-a3c9-b46322536018"
      },
      "source": [
        "model.fit(X_train,y_train,validation_data=(X_test,ytest),epochs=100,batch_size=64,verbose=1)"
      ],
      "execution_count": null,
      "outputs": [
        {
          "output_type": "stream",
          "text": [
            "Epoch 1/100\n",
            "12/12 [==============================] - 4s 293ms/step - loss: 0.0327 - val_loss: 0.0572\n",
            "Epoch 2/100\n",
            "12/12 [==============================] - 3s 216ms/step - loss: 0.0061 - val_loss: 0.0070\n",
            "Epoch 3/100\n",
            "12/12 [==============================] - 3s 213ms/step - loss: 0.0026 - val_loss: 0.0059\n",
            "Epoch 4/100\n",
            "12/12 [==============================] - 3s 215ms/step - loss: 0.0015 - val_loss: 0.0055\n",
            "Epoch 5/100\n",
            "12/12 [==============================] - 3s 218ms/step - loss: 0.0013 - val_loss: 0.0056\n",
            "Epoch 6/100\n",
            "12/12 [==============================] - 3s 215ms/step - loss: 0.0013 - val_loss: 0.0062\n",
            "Epoch 7/100\n",
            "12/12 [==============================] - 3s 217ms/step - loss: 0.0013 - val_loss: 0.0062\n",
            "Epoch 8/100\n",
            "12/12 [==============================] - 2s 208ms/step - loss: 0.0012 - val_loss: 0.0051\n",
            "Epoch 9/100\n",
            "12/12 [==============================] - 2s 200ms/step - loss: 0.0013 - val_loss: 0.0050\n",
            "Epoch 10/100\n",
            "12/12 [==============================] - 2s 207ms/step - loss: 0.0013 - val_loss: 0.0050\n",
            "Epoch 11/100\n",
            "12/12 [==============================] - 2s 208ms/step - loss: 0.0012 - val_loss: 0.0050\n",
            "Epoch 12/100\n",
            "12/12 [==============================] - 3s 211ms/step - loss: 0.0013 - val_loss: 0.0059\n",
            "Epoch 13/100\n",
            "12/12 [==============================] - 3s 213ms/step - loss: 0.0012 - val_loss: 0.0071\n",
            "Epoch 14/100\n",
            "12/12 [==============================] - 3s 210ms/step - loss: 0.0013 - val_loss: 0.0054\n",
            "Epoch 15/100\n",
            "12/12 [==============================] - 3s 214ms/step - loss: 0.0011 - val_loss: 0.0063\n",
            "Epoch 16/100\n",
            "12/12 [==============================] - 3s 210ms/step - loss: 0.0011 - val_loss: 0.0064\n",
            "Epoch 17/100\n",
            "12/12 [==============================] - 3s 212ms/step - loss: 0.0012 - val_loss: 0.0046\n",
            "Epoch 18/100\n",
            "12/12 [==============================] - 3s 218ms/step - loss: 0.0011 - val_loss: 0.0047\n",
            "Epoch 19/100\n",
            "12/12 [==============================] - 3s 210ms/step - loss: 0.0012 - val_loss: 0.0051\n",
            "Epoch 20/100\n",
            "12/12 [==============================] - 3s 218ms/step - loss: 0.0011 - val_loss: 0.0063\n",
            "Epoch 21/100\n",
            "12/12 [==============================] - 3s 224ms/step - loss: 0.0012 - val_loss: 0.0056\n",
            "Epoch 22/100\n",
            "12/12 [==============================] - 3s 218ms/step - loss: 0.0011 - val_loss: 0.0037\n",
            "Epoch 23/100\n",
            "12/12 [==============================] - 3s 211ms/step - loss: 0.0013 - val_loss: 0.0063\n",
            "Epoch 24/100\n",
            "12/12 [==============================] - 3s 214ms/step - loss: 0.0011 - val_loss: 0.0039\n",
            "Epoch 25/100\n",
            "12/12 [==============================] - 3s 213ms/step - loss: 0.0010 - val_loss: 0.0048\n",
            "Epoch 26/100\n",
            "12/12 [==============================] - 3s 218ms/step - loss: 9.9989e-04 - val_loss: 0.0046\n",
            "Epoch 27/100\n",
            "12/12 [==============================] - 3s 217ms/step - loss: 9.7821e-04 - val_loss: 0.0035\n",
            "Epoch 28/100\n",
            "12/12 [==============================] - 3s 212ms/step - loss: 9.4432e-04 - val_loss: 0.0030\n",
            "Epoch 29/100\n",
            "12/12 [==============================] - 3s 218ms/step - loss: 9.4579e-04 - val_loss: 0.0033\n",
            "Epoch 30/100\n",
            "12/12 [==============================] - 3s 236ms/step - loss: 9.7858e-04 - val_loss: 0.0028\n",
            "Epoch 31/100\n",
            "12/12 [==============================] - 3s 236ms/step - loss: 9.4825e-04 - val_loss: 0.0040\n",
            "Epoch 32/100\n",
            "12/12 [==============================] - 3s 217ms/step - loss: 8.8590e-04 - val_loss: 0.0029\n",
            "Epoch 33/100\n",
            "12/12 [==============================] - 2s 201ms/step - loss: 9.0276e-04 - val_loss: 0.0035\n",
            "Epoch 34/100\n",
            "12/12 [==============================] - 3s 211ms/step - loss: 8.5101e-04 - val_loss: 0.0023\n",
            "Epoch 35/100\n",
            "12/12 [==============================] - 3s 210ms/step - loss: 0.0011 - val_loss: 0.0049\n",
            "Epoch 36/100\n",
            "12/12 [==============================] - 3s 212ms/step - loss: 9.3533e-04 - val_loss: 0.0024\n",
            "Epoch 37/100\n",
            "12/12 [==============================] - 3s 212ms/step - loss: 9.8870e-04 - val_loss: 0.0033\n",
            "Epoch 38/100\n",
            "12/12 [==============================] - 3s 219ms/step - loss: 7.9016e-04 - val_loss: 0.0037\n",
            "Epoch 39/100\n",
            "12/12 [==============================] - 3s 215ms/step - loss: 8.7450e-04 - val_loss: 0.0024\n",
            "Epoch 40/100\n",
            "12/12 [==============================] - 3s 226ms/step - loss: 8.4563e-04 - val_loss: 0.0043\n",
            "Epoch 41/100\n",
            "12/12 [==============================] - 3s 225ms/step - loss: 9.0689e-04 - val_loss: 0.0023\n",
            "Epoch 42/100\n",
            "12/12 [==============================] - 3s 224ms/step - loss: 0.0010 - val_loss: 0.0038\n",
            "Epoch 43/100\n",
            "12/12 [==============================] - 3s 218ms/step - loss: 8.0064e-04 - val_loss: 0.0048\n",
            "Epoch 44/100\n",
            "12/12 [==============================] - 3s 220ms/step - loss: 7.7657e-04 - val_loss: 0.0028\n",
            "Epoch 45/100\n",
            "12/12 [==============================] - 3s 224ms/step - loss: 7.4418e-04 - val_loss: 0.0045\n",
            "Epoch 46/100\n",
            "12/12 [==============================] - 3s 222ms/step - loss: 8.5257e-04 - val_loss: 0.0019\n",
            "Epoch 47/100\n",
            "12/12 [==============================] - 3s 221ms/step - loss: 7.6266e-04 - val_loss: 0.0033\n",
            "Epoch 48/100\n",
            "12/12 [==============================] - 3s 227ms/step - loss: 6.4962e-04 - val_loss: 0.0023\n",
            "Epoch 49/100\n",
            "12/12 [==============================] - 3s 227ms/step - loss: 6.5364e-04 - val_loss: 0.0024\n",
            "Epoch 50/100\n",
            "12/12 [==============================] - 3s 217ms/step - loss: 6.4521e-04 - val_loss: 0.0017\n",
            "Epoch 51/100\n",
            "12/12 [==============================] - 3s 224ms/step - loss: 6.6956e-04 - val_loss: 0.0027\n",
            "Epoch 52/100\n",
            "12/12 [==============================] - 3s 229ms/step - loss: 6.0554e-04 - val_loss: 0.0024\n",
            "Epoch 53/100\n",
            "12/12 [==============================] - 3s 228ms/step - loss: 5.7656e-04 - val_loss: 0.0018\n",
            "Epoch 54/100\n",
            "12/12 [==============================] - 3s 223ms/step - loss: 5.5463e-04 - val_loss: 0.0028\n",
            "Epoch 55/100\n",
            "12/12 [==============================] - 3s 219ms/step - loss: 5.6130e-04 - val_loss: 0.0016\n",
            "Epoch 56/100\n",
            "12/12 [==============================] - 2s 203ms/step - loss: 5.3852e-04 - val_loss: 0.0026\n",
            "Epoch 57/100\n",
            "12/12 [==============================] - 2s 206ms/step - loss: 6.8066e-04 - val_loss: 0.0015\n",
            "Epoch 58/100\n",
            "12/12 [==============================] - 3s 213ms/step - loss: 6.3581e-04 - val_loss: 0.0031\n",
            "Epoch 59/100\n",
            "12/12 [==============================] - 3s 217ms/step - loss: 5.6922e-04 - val_loss: 0.0014\n",
            "Epoch 60/100\n",
            "12/12 [==============================] - 3s 216ms/step - loss: 5.0285e-04 - val_loss: 0.0015\n",
            "Epoch 61/100\n",
            "12/12 [==============================] - 2s 208ms/step - loss: 4.7150e-04 - val_loss: 0.0024\n",
            "Epoch 62/100\n",
            "12/12 [==============================] - 3s 210ms/step - loss: 5.3864e-04 - val_loss: 0.0014\n",
            "Epoch 63/100\n",
            "12/12 [==============================] - 3s 211ms/step - loss: 5.0634e-04 - val_loss: 0.0027\n",
            "Epoch 64/100\n",
            "12/12 [==============================] - 3s 209ms/step - loss: 4.7151e-04 - val_loss: 0.0016\n",
            "Epoch 65/100\n",
            "12/12 [==============================] - 3s 215ms/step - loss: 4.3718e-04 - val_loss: 0.0019\n",
            "Epoch 66/100\n",
            "12/12 [==============================] - 3s 224ms/step - loss: 6.8174e-04 - val_loss: 0.0042\n",
            "Epoch 67/100\n",
            "12/12 [==============================] - 3s 225ms/step - loss: 5.7388e-04 - val_loss: 0.0013\n",
            "Epoch 68/100\n",
            "12/12 [==============================] - 3s 219ms/step - loss: 4.2787e-04 - val_loss: 0.0015\n",
            "Epoch 69/100\n",
            "12/12 [==============================] - 3s 215ms/step - loss: 3.9341e-04 - val_loss: 0.0012\n",
            "Epoch 70/100\n",
            "12/12 [==============================] - 3s 219ms/step - loss: 4.0624e-04 - val_loss: 0.0013\n",
            "Epoch 71/100\n",
            "12/12 [==============================] - 3s 224ms/step - loss: 3.7150e-04 - val_loss: 0.0012\n",
            "Epoch 72/100\n",
            "12/12 [==============================] - 3s 222ms/step - loss: 3.8568e-04 - val_loss: 0.0016\n",
            "Epoch 73/100\n",
            "12/12 [==============================] - 3s 217ms/step - loss: 3.7192e-04 - val_loss: 0.0011\n",
            "Epoch 74/100\n",
            "12/12 [==============================] - 3s 217ms/step - loss: 3.5066e-04 - val_loss: 0.0016\n",
            "Epoch 75/100\n",
            "12/12 [==============================] - 3s 226ms/step - loss: 3.4399e-04 - val_loss: 0.0011\n",
            "Epoch 76/100\n",
            "12/12 [==============================] - 3s 225ms/step - loss: 3.9420e-04 - val_loss: 0.0011\n",
            "Epoch 77/100\n",
            "12/12 [==============================] - 3s 220ms/step - loss: 3.8509e-04 - val_loss: 0.0019\n",
            "Epoch 78/100\n",
            "12/12 [==============================] - 3s 225ms/step - loss: 3.6562e-04 - val_loss: 9.8465e-04\n",
            "Epoch 79/100\n",
            "12/12 [==============================] - 3s 212ms/step - loss: 3.5407e-04 - val_loss: 9.9119e-04\n",
            "Epoch 80/100\n",
            "12/12 [==============================] - 2s 208ms/step - loss: 3.2733e-04 - val_loss: 9.9309e-04\n",
            "Epoch 81/100\n",
            "12/12 [==============================] - 2s 207ms/step - loss: 3.1909e-04 - val_loss: 0.0011\n",
            "Epoch 82/100\n",
            "12/12 [==============================] - 3s 224ms/step - loss: 3.2184e-04 - val_loss: 9.9005e-04\n",
            "Epoch 83/100\n",
            "12/12 [==============================] - 3s 222ms/step - loss: 3.3102e-04 - val_loss: 9.4516e-04\n",
            "Epoch 84/100\n",
            "12/12 [==============================] - 3s 212ms/step - loss: 2.9810e-04 - val_loss: 0.0024\n",
            "Epoch 85/100\n",
            "12/12 [==============================] - 3s 220ms/step - loss: 3.9969e-04 - val_loss: 9.4473e-04\n",
            "Epoch 86/100\n",
            "12/12 [==============================] - 3s 223ms/step - loss: 3.3576e-04 - val_loss: 9.0304e-04\n",
            "Epoch 87/100\n",
            "12/12 [==============================] - 3s 219ms/step - loss: 3.0304e-04 - val_loss: 0.0020\n",
            "Epoch 88/100\n",
            "12/12 [==============================] - 3s 220ms/step - loss: 3.4417e-04 - val_loss: 9.1671e-04\n",
            "Epoch 89/100\n",
            "12/12 [==============================] - 3s 214ms/step - loss: 2.8299e-04 - val_loss: 0.0011\n",
            "Epoch 90/100\n",
            "12/12 [==============================] - 3s 217ms/step - loss: 2.8797e-04 - val_loss: 0.0012\n",
            "Epoch 91/100\n",
            "12/12 [==============================] - 3s 219ms/step - loss: 2.9099e-04 - val_loss: 0.0013\n",
            "Epoch 92/100\n",
            "12/12 [==============================] - 3s 220ms/step - loss: 2.8876e-04 - val_loss: 0.0010\n",
            "Epoch 93/100\n",
            "12/12 [==============================] - 3s 219ms/step - loss: 2.9401e-04 - val_loss: 0.0010\n",
            "Epoch 94/100\n",
            "12/12 [==============================] - 3s 215ms/step - loss: 2.6595e-04 - val_loss: 8.4192e-04\n",
            "Epoch 95/100\n",
            "12/12 [==============================] - 3s 222ms/step - loss: 3.3456e-04 - val_loss: 9.1729e-04\n",
            "Epoch 96/100\n",
            "12/12 [==============================] - 3s 216ms/step - loss: 3.2941e-04 - val_loss: 0.0026\n",
            "Epoch 97/100\n",
            "12/12 [==============================] - 3s 222ms/step - loss: 3.1434e-04 - val_loss: 8.6761e-04\n",
            "Epoch 98/100\n",
            "12/12 [==============================] - 3s 213ms/step - loss: 3.0643e-04 - val_loss: 9.3909e-04\n",
            "Epoch 99/100\n",
            "12/12 [==============================] - 3s 218ms/step - loss: 2.6938e-04 - val_loss: 8.5215e-04\n",
            "Epoch 100/100\n",
            "12/12 [==============================] - 3s 214ms/step - loss: 2.5763e-04 - val_loss: 8.6920e-04\n"
          ],
          "name": "stdout"
        },
        {
          "output_type": "execute_result",
          "data": {
            "text/plain": [
              "<tensorflow.python.keras.callbacks.History at 0x7f3d0c742208>"
            ]
          },
          "metadata": {
            "tags": []
          },
          "execution_count": 10
        }
      ]
    },
    {
      "cell_type": "markdown",
      "metadata": {
        "id": "DYkKsTZuHvuU",
        "colab_type": "text"
      },
      "source": [
        "### Prediction And Performance "
      ]
    },
    {
      "cell_type": "code",
      "metadata": {
        "id": "CetOD0hNH9Hl",
        "colab_type": "code",
        "colab": {
          "base_uri": "https://localhost:8080/",
          "height": 34
        },
        "outputId": "238f7961-e8c2-4ecf-9498-eaaf462208b7"
      },
      "source": [
        "train_predict=model.predict(X_train)\n",
        "test_predict=model.predict(X_test)\n",
        "train_predict=scaler.inverse_transform(train_predict)\n",
        "test_predict=scaler.inverse_transform(test_predict)\n",
        "import math\n",
        "from sklearn.metrics import mean_squared_error\n",
        "math.sqrt(mean_squared_error(y_train,train_predict))\n",
        "math.sqrt(mean_squared_error(ytest,test_predict))"
      ],
      "execution_count": null,
      "outputs": [
        {
          "output_type": "execute_result",
          "data": {
            "text/plain": [
              "1280.1878879424874"
            ]
          },
          "metadata": {
            "tags": []
          },
          "execution_count": 11
        }
      ]
    },
    {
      "cell_type": "markdown",
      "metadata": {
        "id": "ipbn0aDsIPP_",
        "colab_type": "text"
      },
      "source": [
        "### Plotting of Graph"
      ]
    },
    {
      "cell_type": "code",
      "metadata": {
        "id": "JxSm9-UPIWwy",
        "colab_type": "code",
        "colab": {
          "base_uri": "https://localhost:8080/",
          "height": 266
        },
        "outputId": "f5b7f3f3-0363-47f4-dc7b-494c020e8b27"
      },
      "source": [
        "import matplotlib.pyplot as plt\n",
        "look_back=100\n",
        "trainPredictPlot = numpy.empty_like(df1)\n",
        "trainPredictPlot[:, :] = np.nan\n",
        "trainPredictPlot[look_back:len(train_predict)+look_back, :] = train_predict\n",
        "# shift test predictions for plotting\n",
        "testPredictPlot = numpy.empty_like(df1)\n",
        "testPredictPlot[:, :] = numpy.nan\n",
        "testPredictPlot[len(train_predict)+(look_back*2)+1:len(df1)-1, :] = test_predict\n",
        "# plot baseline and predictions\n",
        "plt.plot(scaler.inverse_transform(df1))\n",
        "plt.plot(trainPredictPlot)\n",
        "plt.plot(testPredictPlot)\n",
        "plt.show()"
      ],
      "execution_count": null,
      "outputs": [
        {
          "output_type": "display_data",
          "data": {
            "image/png": "[encoded data removed]",
            "text/plain": [
              "<Figure size 432x288 with 1 Axes>"
            ]
          },
          "metadata": {
            "tags": [],
            "needs_background": "light"
          }
        }
      ]
    },
    {
      "cell_type": "markdown",
      "metadata": {
        "id": "u-jkRfkVI9z3",
        "colab_type": "text"
      },
      "source": [
        "### Prediction of future next 10 days"
      ]
    },
    {
      "cell_type": "code",
      "metadata": {
        "id": "4Dn7fuylq4xI",
        "colab_type": "code",
        "colab": {}
      },
      "source": [
        ""
      ],
      "execution_count": null,
      "outputs": []
    },
    {
      "cell_type": "code",
      "metadata": {
        "id": "Ix63v-MsJP8m",
        "colab_type": "code",
        "colab": {}
      },
      "source": [
        "from numpy import array\n",
        "\n",
        "x_input=test_data[341:].reshape(1,-1)\n",
        "x_input.shape\n",
        "temp_input=list(x_input)\n",
        "temp_input=temp_input[0].tolist()\n",
        "\n",
        "lst_output=[]\n",
        "n_steps=100\n",
        "i=0\n",
        "while(i<30):\n",
        "    \n",
        "    if(len(temp_input)>100):\n",
        "        #print(temp_input)\n",
        "        x_input=np.array(temp_input[1:])\n",
        "        print(\"{} day input {}\".format(i,x_input))\n",
        "        x_input=x_input.reshape(1,-1)\n",
        "        x_input = x_input.reshape((1, n_steps, 1))\n",
        "        #print(x_input)\n",
        "        yhat = model.predict(x_input, verbose=0)\n",
        "        print(\"{} day output {}\".format(i,yhat))\n",
        "        temp_input.extend(yhat[0].tolist())\n",
        "        temp_input=temp_input[1:]\n",
        "        #print(temp_input)\n",
        "        lst_output.extend(yhat.tolist())\n",
        "        i=i+1\n",
        "    else:\n",
        "        x_input = x_input.reshape((1, n_steps,1))\n",
        "        yhat = model.predict(x_input, verbose=0)\n",
        "        print(yhat[0])\n",
        "        temp_input.extend(yhat[0].tolist())\n",
        "        print(len(temp_input))\n",
        "        lst_output.extend(yhat.tolist())\n",
        "        i=i+1\n",
        "day_new=np.arange(1,101)\n",
        "day_pred=np.arange(101,131)\n",
        "import matplotlib.pyplot as plt\n",
        "plt.plot(day_new,scaler.inverse_transform(df1[1259:]))\n",
        "plt.plot(day_pred,scaler.inverse_transform(lst_output))"
      ],
      "execution_count": null,
      "outputs": []
    }
  ]
}